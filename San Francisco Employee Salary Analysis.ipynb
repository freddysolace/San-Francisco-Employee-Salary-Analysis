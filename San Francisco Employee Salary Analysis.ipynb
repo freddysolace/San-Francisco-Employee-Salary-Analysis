{
 "cells": [
  {
   "cell_type": "markdown",
   "metadata": {},
   "source": [
    "# San Francisco Employee Salary Analysis"
   ]
  },
  {
   "cell_type": "markdown",
   "metadata": {},
   "source": [
    "## Aim of Analysis"
   ]
  },
  {
   "cell_type": "markdown",
   "metadata": {},
   "source": [
    "To explore which type of employees make less or more money,or which employees get normal pay hikes and promotions"
   ]
  },
  {
   "cell_type": "markdown",
   "metadata": {},
   "source": [
    "## Importing libraries that would be needed."
   ]
  },
  {
   "cell_type": "code",
   "execution_count": 2,
   "metadata": {},
   "outputs": [],
   "source": [
    "# importing libraries for exploration and numerical analysis\n",
    "import pandas as pd\n",
    "import numpy as np\n",
    "\n",
    "#importing the statistics package from scipy library\n",
    "from scipy import stats\n",
    "\n",
    "# importing libraries for visalisation\n",
    "import matplotlib.pyplot as plt\n",
    "import seaborn as sns\n",
    "\n"
   ]
  },
  {
   "cell_type": "markdown",
   "metadata": {},
   "source": [
    "## Loading Dataset "
   ]
  },
  {
   "cell_type": "code",
   "execution_count": 5,
   "metadata": {},
   "outputs": [
    {
     "name": "stdout",
     "output_type": "stream",
     "text": [
      "   Id       EmployeeName                                        JobTitle  \\\n",
      "0   1     NATHANIEL FORD  GENERAL MANAGER-METROPOLITAN TRANSIT AUTHORITY   \n",
      "1   2       GARY JIMENEZ                 CAPTAIN III (POLICE DEPARTMENT)   \n",
      "2   3     ALBERT PARDINI                 CAPTAIN III (POLICE DEPARTMENT)   \n",
      "3   4  CHRISTOPHER CHONG            WIRE ROPE CABLE MAINTENANCE MECHANIC   \n",
      "4   5    PATRICK GARDNER    DEPUTY CHIEF OF DEPARTMENT,(FIRE DEPARTMENT)   \n",
      "\n",
      "  BasePay OvertimePay OtherPay Benefits   TotalPay  TotalPayBenefits  Year  \\\n",
      "0  167411           0   400184      NaN  567595.43         567595.43  2011   \n",
      "1  155966      245132   137811      NaN  538909.28         538909.28  2011   \n",
      "2  212739      106088  16452.6      NaN  335279.91         335279.91  2011   \n",
      "3   77916     56120.7   198307      NaN  332343.61         332343.61  2011   \n",
      "4  134402        9737   182235      NaN  326373.19         326373.19  2011   \n",
      "\n",
      "   Notes         Agency Status  \n",
      "0    NaN  San Francisco    NaN  \n",
      "1    NaN  San Francisco    NaN  \n",
      "2    NaN  San Francisco    NaN  \n",
      "3    NaN  San Francisco    NaN  \n",
      "4    NaN  San Francisco    NaN  \n",
      "(148654, 13)\n"
     ]
    },
    {
     "name": "stderr",
     "output_type": "stream",
     "text": [
      "C:\\Users\\Enimpa\\anaconda3\\lib\\site-packages\\IPython\\core\\interactiveshell.py:3063: DtypeWarning: Columns (3,4,5,6,12) have mixed types.Specify dtype option on import or set low_memory=False.\n",
      "  interactivity=interactivity, compiler=compiler, result=result)\n"
     ]
    }
   ],
   "source": [
    "# Loading in San Francisco Employee Salary dataset\n",
    "\n",
    "# Reading data into a dataframe and storing it in the variable employee_salary\n",
    "employee_salary = pd.read_csv(\"Salaries.csv\")\n",
    "\n",
    "# Showing the first 5 rows of dataset\n",
    "print(employee_salary.head())\n",
    "\n",
    "# Printing the number of rows and columns of dataset\n",
    "print(employee_salary.shape)"
   ]
  },
  {
   "cell_type": "code",
   "execution_count": null,
   "metadata": {},
   "outputs": [],
   "source": []
  }
 ],
 "metadata": {
  "kernelspec": {
   "display_name": "Python 3",
   "language": "python",
   "name": "python3"
  },
  "language_info": {
   "codemirror_mode": {
    "name": "ipython",
    "version": 3
   },
   "file_extension": ".py",
   "mimetype": "text/x-python",
   "name": "python",
   "nbconvert_exporter": "python",
   "pygments_lexer": "ipython3",
   "version": "3.7.6"
  }
 },
 "nbformat": 4,
 "nbformat_minor": 4
}
